{
  "nbformat": 4,
  "nbformat_minor": 0,
  "metadata": {
    "colab": {
      "provenance": []
    },
    "kernelspec": {
      "name": "python3",
      "display_name": "Python 3"
    },
    "language_info": {
      "name": "python"
    }
  },
  "cells": [
    {
      "cell_type": "code",
      "source": [
        "!pip install rdkit\n",
        "!pip install rdkit-pypi\n",
        "\n",
        "import pandas as pd\n",
        "from rdkit import Chem\n",
        "from rdkit.Chem import AllChem, DataStructs\n",
        "\n",
        "from google.colab import drive\n",
        "drive.mount('/content/drive')"
      ],
      "metadata": {
        "colab": {
          "base_uri": "https://localhost:8080/"
        },
        "id": "Fu2UXDD5xBRP",
        "outputId": "944099e9-0fb1-4e15-b2fe-de474edda6bf"
      },
      "execution_count": 23,
      "outputs": [
        {
          "output_type": "stream",
          "name": "stdout",
          "text": [
            "Requirement already satisfied: rdkit in /usr/local/lib/python3.11/dist-packages (2024.9.5)\n",
            "Requirement already satisfied: numpy in /usr/local/lib/python3.11/dist-packages (from rdkit) (1.26.4)\n",
            "Requirement already satisfied: Pillow in /usr/local/lib/python3.11/dist-packages (from rdkit) (11.1.0)\n",
            "Requirement already satisfied: rdkit-pypi in /usr/local/lib/python3.11/dist-packages (2022.9.5)\n",
            "Requirement already satisfied: numpy in /usr/local/lib/python3.11/dist-packages (from rdkit-pypi) (1.26.4)\n",
            "Requirement already satisfied: Pillow in /usr/local/lib/python3.11/dist-packages (from rdkit-pypi) (11.1.0)\n",
            "Drive already mounted at /content/drive; to attempt to forcibly remount, call drive.mount(\"/content/drive\", force_remount=True).\n"
          ]
        }
      ]
    },
    {
      "cell_type": "code",
      "execution_count": 24,
      "metadata": {
        "colab": {
          "base_uri": "https://localhost:8080/"
        },
        "id": "vqu9YBQtvqUN",
        "outputId": "da94adcc-8b6c-4051-8035-c570f8bc0bdd"
      },
      "outputs": [
        {
          "output_type": "stream",
          "name": "stdout",
          "text": [
            "Top 3 most similar compounds:\n",
            "SMILES: C1=CC(=C(C=C1CC(C(=O)O)N)O)O.[Na], Similarity: 0.9643\n",
            "SMILES: COC1=C(C=C(C=C1)CC(C(=O)O)N)O, Similarity: 0.6667\n",
            "SMILES: COC1=C(C=CC(=C1)CC(C(=O)O)N)O, Similarity: 0.6667\n"
          ]
        }
      ],
      "source": [
        "df = pd.read_csv(\"/content/drive/MyDrive/Colab Notebooks/compounds.csv\", delimiter=\";\")\n",
        "df.columns = df.columns.str.strip()\n",
        "\n",
        "df = df.dropna(subset=[\"smiles\"])\n",
        "smiles_list = df[\"smiles\"].tolist()\n",
        "\n",
        "molecules = [Chem.MolFromSmiles(smiles) for smiles in smiles_list]\n",
        "fingerprints = [AllChem.GetMorganFingerprintAsBitVect(mol, 2, nBits=2048) for mol in molecules]\n",
        "\n",
        "levodopa_smiles = \"C1=CC(=C(C=C1CC(C(=O)O)N)O)O\"\n",
        "levodopa_mol = Chem.MolFromSmiles(levodopa_smiles)\n",
        "levodopa_fp = AllChem.GetMorganFingerprintAsBitVect(levodopa_mol, 2, nBits=2048)\n",
        "\n",
        "tanimoto_scores = []\n",
        "for i, fp in enumerate(fingerprints):\n",
        "    if fp is not None:\n",
        "        similarity = DataStructs.TanimotoSimilarity(levodopa_fp, fp)\n",
        "        tanimoto_scores.append((smiles_list[i], similarity))\n",
        "\n",
        "tanimoto_scores.sort(key=lambda x: x[1], reverse=True)\n",
        "top_hits = tanimoto_scores[:3]\n",
        "\n",
        "print(\"Top 3 most similar compounds:\")\n",
        "for smiles, score in top_hits:\n",
        "    print(f\"SMILES: {smiles}, Similarity: {score:.4f}\")"
      ]
    }
  ]
}